{
  "nbformat": 4,
  "nbformat_minor": 0,
  "metadata": {
    "colab": {
      "name": "Adult.ipynb",
      "provenance": [],
      "mount_file_id": "1ZU1LDnjMIDHQ-kMWlvjOALdxbOVCGzrx",
      "authorship_tag": "ABX9TyPR0wuvy0eW5ZvSm+ZE7dF2",
      "include_colab_link": true
    },
    "kernelspec": {
      "name": "python3",
      "display_name": "Python 3"
    }
  },
  "cells": [
    {
      "cell_type": "markdown",
      "metadata": {
        "id": "view-in-github",
        "colab_type": "text"
      },
      "source": [
        "<a href=\"https://colab.research.google.com/github/TheCrypticCanadian/Jupyter-Notebook/blob/master/Adult.ipynb\" target=\"_parent\"><img src=\"https://colab.research.google.com/assets/colab-badge.svg\" alt=\"Open In Colab\"/></a>"
      ]
    },
    {
      "cell_type": "markdown",
      "metadata": {
        "id": "OWwpVzaJOZwj",
        "colab_type": "text"
      },
      "source": [
        "# Imports"
      ]
    },
    {
      "cell_type": "code",
      "metadata": {
        "id": "NH5OE9EwqiyO",
        "colab_type": "code",
        "colab": {
          "base_uri": "https://localhost:8080/",
          "height": 35
        },
        "outputId": "2b624eed-4c7d-435e-fc16-d2e7a5f06e96"
      },
      "source": [
        "import numpy as np\n",
        "import matplotlib.pyplot as plt\n",
        "import matplotlib.colors as mcolors\n",
        "import pandas as pd\n",
        "from sklearn.datasets import load_iris\n",
        "from sklearn.model_selection import train_test_split\n",
        "from sklearn.neighbors import KNeighborsClassifier\n",
        "from sklearn.svm import SVC\n",
        "from sklearn.tree import DecisionTreeClassifier\n",
        "\n",
        "\n",
        "from sklearn.preprocessing import LabelEncoder\n",
        "\n",
        "\n",
        "from sklearn.preprocessing import StandardScaler, OneHotEncoder\n",
        "from sklearn.compose import ColumnTransformer, make_column_transformer\n",
        "\n",
        "from sklearn.compose import ColumnTransformer\n",
        "from sklearn.datasets import fetch_openml\n",
        "from sklearn.pipeline import Pipeline\n",
        "from sklearn.impute import SimpleImputer\n",
        "from sklearn.preprocessing import StandardScaler, OneHotEncoder\n",
        "from sklearn.linear_model import LogisticRegression\n",
        "from sklearn.model_selection import train_test_split, GridSearchCV\n",
        "\n",
        "from sklearn.metrics import accuracy_score\n",
        "\n",
        "! ls"
      ],
      "execution_count": null,
      "outputs": [
        {
          "output_type": "stream",
          "text": [
            "adult.data  adult.names  adult.test  drive  sample_data\n"
          ],
          "name": "stdout"
        }
      ]
    },
    {
      "cell_type": "markdown",
      "metadata": {
        "id": "AjOxlyoWOc3E",
        "colab_type": "text"
      },
      "source": [
        "# Setting Up Data"
      ]
    },
    {
      "cell_type": "code",
      "metadata": {
        "id": "Uzd0hnBrt50M",
        "colab_type": "code",
        "colab": {}
      },
      "source": [
        "column_names = [\"age\", \"workclass\", \"fnlwgt\", \"education\", \"education_num\", \"marital_status\", \"occupation\", \"relationship\", \"race\", \"sex\", \"capital_gain\", \"capital_loss\", \"hours-per-week\", \"native_country\", \"income\"]\n",
        " \n",
        "train = pd.read_csv(\"adult.data\", names=column_names)\n",
        "test = pd.read_csv(\"adult.test\",names=column_names ,skiprows=1)\n",
        "\n",
        "train_df = pd.DataFrame(train, columns=column_names)\n",
        "test_df = pd.DataFrame(test, columns=column_names)\n",
        "\n",
        "X_train = train_df.iloc[:,:-1]\n",
        "y_train = train_df[\"income\"].astype('category')\n",
        "y_train_cat = y_train.cat.codes\n",
        "\n",
        "X_test = train_df.iloc[:,:-1]\n",
        "y_test = train_df[\"income\"]\n",
        "#y_test_cat = y_test.cat.codes\n"
      ],
      "execution_count": null,
      "outputs": []
    },
    {
      "cell_type": "markdown",
      "metadata": {
        "id": "G8YRPd-eOhIo",
        "colab_type": "text"
      },
      "source": [
        "# Visualization"
      ]
    },
    {
      "cell_type": "code",
      "metadata": {
        "id": "Ew4ZsWmJoYFG",
        "colab_type": "code",
        "colab": {}
      },
      "source": [
        "grr = pd.plotting.scatter_matrix(X_train, c=y_train_cat, figsize=(15, 15), marker='o',\n",
        "hist_kwds={'bins': 20}, s=60, alpha=.8,  cmap = mcolors.ListedColormap([\"black\", \"green\"]))"
      ],
      "execution_count": null,
      "outputs": []
    },
    {
      "cell_type": "markdown",
      "metadata": {
        "id": "nM-_suMCOk_v",
        "colab_type": "text"
      },
      "source": [
        "# Encoding"
      ]
    },
    {
      "cell_type": "markdown",
      "metadata": {
        "id": "ov_ma4pRREAi",
        "colab_type": "text"
      },
      "source": [
        "### One Hot"
      ]
    },
    {
      "cell_type": "code",
      "metadata": {
        "id": "4WYVKiwpaP8I",
        "colab_type": "code",
        "colab": {
          "base_uri": "https://localhost:8080/",
          "height": 348
        },
        "outputId": "4502f04b-c1b9-457c-c3be-9a9cb74473cd"
      },
      "source": [
        "numeric_features = ['age', 'fnlwgt', 'education_num','capital_gain','capital_loss','hours-per-week']\n",
        "numeric_transformer = Pipeline(steps=[\n",
        "    ('imputer', SimpleImputer(strategy='median')),\n",
        "    ('scaler', StandardScaler())])\n",
        "\n",
        "categorical_features = ['workclass', 'education', 'marital_status','occupation','relationship','race','sex','native_country']\n",
        "categorical_transformer = Pipeline(steps=[\n",
        "    ('imputer', SimpleImputer(strategy='constant', fill_value='missing')),\n",
        "    ('onehot', OneHotEncoder(handle_unknown='ignore'))])\n",
        "\n",
        "preprocessor = ColumnTransformer(\n",
        "    transformers=[\n",
        "        ('num', numeric_transformer, numeric_features),\n",
        "        ('cat', categorical_transformer, categorical_features)])\n",
        "\n",
        "test = preprocessor.fit_transform(X_train)\n",
        "print(test.toarray()[1])\n",
        "\n"
      ],
      "execution_count": null,
      "outputs": [
        {
          "output_type": "stream",
          "text": [
            "[ 0.83710898 -1.008707    1.13473876 -0.14592048 -0.21665953 -2.22215312\n",
            "  0.          0.          0.          0.          0.          0.\n",
            "  1.          0.          0.          0.          0.          0.\n",
            "  0.          0.          0.          0.          0.          0.\n",
            "  1.          0.          0.          0.          0.          0.\n",
            "  0.          0.          0.          1.          0.          0.\n",
            "  0.          0.          0.          0.          0.          0.\n",
            "  1.          0.          0.          0.          0.          0.\n",
            "  0.          0.          0.          0.          0.          1.\n",
            "  0.          0.          0.          0.          0.          0.\n",
            "  0.          0.          0.          1.          0.          1.\n",
            "  0.          0.          0.          0.          0.          0.\n",
            "  0.          0.          0.          0.          0.          0.\n",
            "  0.          0.          0.          0.          0.          0.\n",
            "  0.          0.          0.          0.          0.          0.\n",
            "  0.          0.          0.          0.          0.          0.\n",
            "  0.          0.          0.          0.          0.          0.\n",
            "  0.          0.          0.          1.          0.          0.        ]\n"
          ],
          "name": "stdout"
        }
      ]
    },
    {
      "cell_type": "markdown",
      "metadata": {
        "id": "OZIu0C9mOrQW",
        "colab_type": "text"
      },
      "source": [
        "# Decision Tree"
      ]
    },
    {
      "cell_type": "code",
      "metadata": {
        "id": "68VeYMQRuWYV",
        "colab_type": "code",
        "colab": {
          "base_uri": "https://localhost:8080/",
          "height": 35
        },
        "outputId": "35ae967e-5214-4967-fa32-8bb056cfa477"
      },
      "source": [
        "model = DecisionTreeClassifier(max_depth=5)\n",
        "\n",
        "pipeline = Pipeline(steps=[('t', preprocessor), ('m',model)])\n",
        "\n",
        "pipeline.fit(X_train,y_train)\n",
        "\n",
        "yhat = pipeline.predict(X_test)\n",
        "\n",
        "accuracy = accuracy_score(y_test, yhat)\n",
        "print('Accuracy: %.2f' % (accuracy*100))"
      ],
      "execution_count": null,
      "outputs": [
        {
          "output_type": "stream",
          "text": [
            "Accuracy: 85.21\n"
          ],
          "name": "stdout"
        }
      ]
    }
  ]
}